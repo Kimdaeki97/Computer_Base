{
 "cells": [
  {
   "cell_type": "code",
   "execution_count": 38,
   "metadata": {},
   "outputs": [],
   "source": [
    "import numpy as np\n",
    "import pandas as pd\n",
    "import matplotlib.pyplot as plt\n",
    "%matplotlib inline\n",
    "\n",
    "import seaborn as sns"
   ]
  },
  {
   "cell_type": "code",
   "execution_count": 47,
   "metadata": {},
   "outputs": [
    {
     "data": {
      "text/html": [
       "<div>\n",
       "<style scoped>\n",
       "    .dataframe tbody tr th:only-of-type {\n",
       "        vertical-align: middle;\n",
       "    }\n",
       "\n",
       "    .dataframe tbody tr th {\n",
       "        vertical-align: top;\n",
       "    }\n",
       "\n",
       "    .dataframe thead th {\n",
       "        text-align: right;\n",
       "    }\n",
       "</style>\n",
       "<table border=\"1\" class=\"dataframe\">\n",
       "  <thead>\n",
       "    <tr style=\"text-align: right;\">\n",
       "      <th></th>\n",
       "      <th>date</th>\n",
       "      <th>use_enter</th>\n",
       "      <th>use_game</th>\n",
       "      <th>use_social</th>\n",
       "      <th>wake</th>\n",
       "      <th>alret</th>\n",
       "      <th>use_total</th>\n",
       "    </tr>\n",
       "  </thead>\n",
       "  <tbody>\n",
       "    <tr>\n",
       "      <th>0</th>\n",
       "      <td>2021.6.1</td>\n",
       "      <td>5</td>\n",
       "      <td>107</td>\n",
       "      <td>35</td>\n",
       "      <td>46</td>\n",
       "      <td>46</td>\n",
       "      <td>147</td>\n",
       "    </tr>\n",
       "    <tr>\n",
       "      <th>1</th>\n",
       "      <td>2021.6.2</td>\n",
       "      <td>35</td>\n",
       "      <td>156</td>\n",
       "      <td>39</td>\n",
       "      <td>40</td>\n",
       "      <td>35</td>\n",
       "      <td>230</td>\n",
       "    </tr>\n",
       "    <tr>\n",
       "      <th>2</th>\n",
       "      <td>2021.6.3</td>\n",
       "      <td>77</td>\n",
       "      <td>104</td>\n",
       "      <td>21</td>\n",
       "      <td>54</td>\n",
       "      <td>30</td>\n",
       "      <td>202</td>\n",
       "    </tr>\n",
       "    <tr>\n",
       "      <th>3</th>\n",
       "      <td>2021.6.4</td>\n",
       "      <td>19</td>\n",
       "      <td>169</td>\n",
       "      <td>49</td>\n",
       "      <td>59</td>\n",
       "      <td>30</td>\n",
       "      <td>237</td>\n",
       "    </tr>\n",
       "    <tr>\n",
       "      <th>4</th>\n",
       "      <td>2021.6.5</td>\n",
       "      <td>320</td>\n",
       "      <td>62</td>\n",
       "      <td>85</td>\n",
       "      <td>71</td>\n",
       "      <td>34</td>\n",
       "      <td>467</td>\n",
       "    </tr>\n",
       "    <tr>\n",
       "      <th>5</th>\n",
       "      <td>2021.6.6</td>\n",
       "      <td>370</td>\n",
       "      <td>45</td>\n",
       "      <td>55</td>\n",
       "      <td>58</td>\n",
       "      <td>56</td>\n",
       "      <td>470</td>\n",
       "    </tr>\n",
       "    <tr>\n",
       "      <th>6</th>\n",
       "      <td>2021.6.7</td>\n",
       "      <td>79</td>\n",
       "      <td>48</td>\n",
       "      <td>103</td>\n",
       "      <td>74</td>\n",
       "      <td>85</td>\n",
       "      <td>230</td>\n",
       "    </tr>\n",
       "    <tr>\n",
       "      <th>7</th>\n",
       "      <td>2021.6.8</td>\n",
       "      <td>91</td>\n",
       "      <td>51</td>\n",
       "      <td>38</td>\n",
       "      <td>53</td>\n",
       "      <td>36</td>\n",
       "      <td>180</td>\n",
       "    </tr>\n",
       "    <tr>\n",
       "      <th>8</th>\n",
       "      <td>2021.6.9</td>\n",
       "      <td>24</td>\n",
       "      <td>47</td>\n",
       "      <td>79</td>\n",
       "      <td>67</td>\n",
       "      <td>63</td>\n",
       "      <td>150</td>\n",
       "    </tr>\n",
       "    <tr>\n",
       "      <th>9</th>\n",
       "      <td>2021.6.10</td>\n",
       "      <td>59</td>\n",
       "      <td>39</td>\n",
       "      <td>75</td>\n",
       "      <td>44</td>\n",
       "      <td>53</td>\n",
       "      <td>173</td>\n",
       "    </tr>\n",
       "    <tr>\n",
       "      <th>10</th>\n",
       "      <td>2021.6.11</td>\n",
       "      <td>81</td>\n",
       "      <td>48</td>\n",
       "      <td>96</td>\n",
       "      <td>80</td>\n",
       "      <td>41</td>\n",
       "      <td>225</td>\n",
       "    </tr>\n",
       "    <tr>\n",
       "      <th>11</th>\n",
       "      <td>2021.6.12</td>\n",
       "      <td>265</td>\n",
       "      <td>57</td>\n",
       "      <td>94</td>\n",
       "      <td>57</td>\n",
       "      <td>29</td>\n",
       "      <td>416</td>\n",
       "    </tr>\n",
       "    <tr>\n",
       "      <th>12</th>\n",
       "      <td>2021.6.13</td>\n",
       "      <td>281</td>\n",
       "      <td>46</td>\n",
       "      <td>93</td>\n",
       "      <td>91</td>\n",
       "      <td>28</td>\n",
       "      <td>420</td>\n",
       "    </tr>\n",
       "    <tr>\n",
       "      <th>13</th>\n",
       "      <td>2021.6.14</td>\n",
       "      <td>24</td>\n",
       "      <td>128</td>\n",
       "      <td>92</td>\n",
       "      <td>78</td>\n",
       "      <td>62</td>\n",
       "      <td>244</td>\n",
       "    </tr>\n",
       "  </tbody>\n",
       "</table>\n",
       "</div>"
      ],
      "text/plain": [
       "         date  use_enter  use_game  use_social  wake  alret  use_total\n",
       "0    2021.6.1          5       107          35    46     46        147\n",
       "1    2021.6.2         35       156          39    40     35        230\n",
       "2    2021.6.3         77       104          21    54     30        202\n",
       "3    2021.6.4         19       169          49    59     30        237\n",
       "4    2021.6.5        320        62          85    71     34        467\n",
       "5    2021.6.6        370        45          55    58     56        470\n",
       "6    2021.6.7         79        48         103    74     85        230\n",
       "7    2021.6.8         91        51          38    53     36        180\n",
       "8    2021.6.9         24        47          79    67     63        150\n",
       "9   2021.6.10         59        39          75    44     53        173\n",
       "10  2021.6.11         81        48          96    80     41        225\n",
       "11  2021.6.12        265        57          94    57     29        416\n",
       "12  2021.6.13        281        46          93    91     28        420\n",
       "13  2021.6.14         24       128          92    78     62        244"
      ]
     },
     "execution_count": 47,
     "metadata": {},
     "output_type": "execute_result"
    }
   ],
   "source": [
    "# 데이터 불러오기\n",
    "screen = pd.read_csv('data/screen.csv')\n",
    "screen"
   ]
  },
  {
   "cell_type": "code",
   "execution_count": 40,
   "metadata": {},
   "outputs": [
    {
     "name": "stdout",
     "output_type": "stream",
     "text": [
      "<class 'pandas.core.frame.DataFrame'>\n",
      "RangeIndex: 14 entries, 0 to 13\n",
      "Data columns (total 7 columns):\n",
      " #   Column      Non-Null Count  Dtype \n",
      "---  ------      --------------  ----- \n",
      " 0   date        14 non-null     object\n",
      " 1   use_enter   14 non-null     int64 \n",
      " 2   use_game    14 non-null     int64 \n",
      " 3   use_social  14 non-null     int64 \n",
      " 4   wake        14 non-null     int64 \n",
      " 5   alret       14 non-null     int64 \n",
      " 6   use_total   14 non-null     int64 \n",
      "dtypes: int64(6), object(1)\n",
      "memory usage: 912.0+ bytes\n"
     ]
    }
   ],
   "source": [
    "screen.info()"
   ]
  },
  {
   "cell_type": "code",
   "execution_count": 41,
   "metadata": {},
   "outputs": [
    {
     "data": {
      "text/plain": [
       "(14, 7)"
      ]
     },
     "execution_count": 41,
     "metadata": {},
     "output_type": "execute_result"
    }
   ],
   "source": [
    "screen.shape"
   ]
  },
  {
   "cell_type": "code",
   "execution_count": 46,
   "metadata": {},
   "outputs": [
    {
     "data": {
      "image/png": "[encoded data removed]",
      "text/plain": [
       "<Figure size 432x288 with 1 Axes>"
      ]
     },
     "metadata": {
      "needs_background": "light"
     },
     "output_type": "display_data"
    }
   ],
   "source": [
    "plt.bar(screen['date'], screen['use_total'])\n",
    "\n",
    "plt.title('Total Screen Time')\n",
    "plt.xlabel('Date')\n",
    "plt.ylabel('Time(min)')\n",
    "plt.xticks(rotation=45)\n",
    "\n",
    "plt.show()"
   ]
  },
  {
   "cell_type": "code",
   "execution_count": null,
   "metadata": {},
   "outputs": [],
   "source": []
  },
  {
   "cell_type": "code",
   "execution_count": null,
   "metadata": {},
   "outputs": [],
   "source": []
  }
 ],
 "metadata": {
  "kernelspec": {
   "display_name": "Python 3",
   "language": "python",
   "name": "python3"
  },
  "language_info": {
   "codemirror_mode": {
    "name": "ipython",
    "version": 3
   },
   "file_extension": ".py",
   "mimetype": "text/x-python",
   "name": "python",
   "nbconvert_exporter": "python",
   "pygments_lexer": "ipython3",
   "version": "3.7.6"
  }
 },
 "nbformat": 4,
 "nbformat_minor": 4
}
